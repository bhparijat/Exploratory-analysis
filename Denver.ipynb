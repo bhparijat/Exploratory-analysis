{
 "cells": [
  {
   "cell_type": "code",
   "execution_count": 4,
   "metadata": {},
   "outputs": [],
   "source": [
    "import numpy as np\n",
    "import pandas as pd\n",
    "import matplotlib.pyplot as plt"
   ]
  },
  {
   "cell_type": "code",
   "execution_count": 5,
   "metadata": {},
   "outputs": [],
   "source": [
    "owners = pd.read_csv('owners.csv')\n",
    "pets = pd.read_csv('pets.csv')\n",
    "procedure_details = pd.read_csv('procedure_details.csv')\n",
    "procedures = pd.read_csv('procedures.csv')"
   ]
  },
  {
   "cell_type": "markdown",
   "metadata": {},
   "source": [
    "# Which pet (enter pet's name) had the most procedures?"
   ]
  },
  {
   "cell_type": "code",
   "execution_count": 6,
   "metadata": {},
   "outputs": [],
   "source": [
    "pets_name = pets[pets['PetID']==procedures.PetID.value_counts().idxmax()]['Name']"
   ]
  },
  {
   "cell_type": "code",
   "execution_count": 7,
   "metadata": {},
   "outputs": [
    {
     "name": "stdout",
     "output_type": "stream",
     "text": [
      "57    Bonaparte\n",
      "Name: Name, dtype: object\n"
     ]
    }
   ],
   "source": [
    "print(pets_name)"
   ]
  },
  {
   "cell_type": "markdown",
   "metadata": {},
   "source": [
    "# Which owner (enter OwnerID) spent the most on a procedure or procedures for his/her pet(s)?\n"
   ]
  },
  {
   "cell_type": "code",
   "execution_count": 26,
   "metadata": {},
   "outputs": [
    {
     "name": "stdout",
     "output_type": "stream",
     "text": [
      "maximum price =  450 \n",
      "ID of owner spending maximum amount 8316\n"
     ]
    }
   ],
   "source": [
    "new_df = pd.merge(procedures,procedure_details,on=['ProcedureType','ProcedureSubCode'])\n",
    "new_df = pd.merge(new_df,pets, on=['PetID'])\n",
    "total = {}\n",
    "max_price = 0\n",
    "max_price_owner = None\n",
    "for i in range(len(new_df.index)):\n",
    "    owner_id = new_df['OwnerID'][i]\n",
    "    price = new_df['Price'][i]\n",
    "    if owner_id not in total:\n",
    "        total[owner_id]=0\n",
    "    total[owner_id]+=price\n",
    "    if max_price<total[owner_id]:\n",
    "        max_price=total[owner_id]\n",
    "        max_price_owner = owner_id\n",
    "print(\"maximum price = \",max_price,\"\\nID of owner spending maximum amount\",max_price_owner)"
   ]
  },
  {
   "cell_type": "markdown",
   "metadata": {},
   "source": [
    "# What is the mean price per procedure for pets with owners who have a 49503 zip code?"
   ]
  },
  {
   "cell_type": "code",
   "execution_count": 35,
   "metadata": {},
   "outputs": [
    {
     "name": "stdout",
     "output_type": "stream",
     "text": [
      "mean price is 155.0\n"
     ]
    }
   ],
   "source": [
    "df1 = pd.merge(pets,owners,on='OwnerID')\n",
    "df2 = pd.merge(procedures,procedure_details,on=['ProcedureType','ProcedureSubCode'])\n",
    "df3 = pd.merge(df2,df1,on='PetID')\n",
    "df3 = df3[df3.ZipCode==49503]\n",
    "price = df3.describe()['Price']['mean']\n",
    "\n",
    "print(\"mean price is\",price)"
   ]
  },
  {
   "cell_type": "markdown",
   "metadata": {},
   "source": [
    "# What percentage of dogs in pets.csv that have a \"c\" in their name are male? Keep answer in decimal format and round to the nearest hundredth (e.g. 0.75). *"
   ]
  },
  {
   "cell_type": "code",
   "execution_count": 38,
   "metadata": {},
   "outputs": [
    {
     "name": "stderr",
     "output_type": "stream",
     "text": [
      "/home/parijat/anaconda3/envs/dl/lib/python3.6/site-packages/ipykernel_launcher.py:7: SettingWithCopyWarning: \n",
      "A value is trying to be set on a copy of a slice from a DataFrame.\n",
      "Try using .loc[row_indexer,col_indexer] = value instead\n",
      "\n",
      "See the caveats in the documentation: http://pandas.pydata.org/pandas-docs/stable/indexing.html#indexing-view-versus-copy\n",
      "  import sys\n"
     ]
    },
    {
     "data": {
      "text/plain": [
       "0.5666666666666667"
      ]
     },
     "execution_count": 38,
     "metadata": {},
     "output_type": "execute_result"
    }
   ],
   "source": [
    "def f(name):\n",
    "    if 'c' in name.lower():\n",
    "        return True\n",
    "    else:\n",
    "        return False\n",
    "dogs = pets[pets.Kind=='Dog']\n",
    "dogs['if_c'] = dogs['Name'].apply(lambda x:f(x))\n",
    "dogs = dogs[dogs.if_c==True]\n",
    "a = dogs['Gender'].value_counts()['male']\n",
    "b = dogs['Gender'].value_counts()['female']\n",
    "print(a/(a+b))"
   ]
  },
  {
   "cell_type": "markdown",
   "metadata": {},
   "source": [
    "# What is the standard deviation of age for dogs? Keep answer in decimal format and round to the nearest hundredth (e.g. 0.75). *"
   ]
  },
  {
   "cell_type": "code",
   "execution_count": 39,
   "metadata": {},
   "outputs": [
    {
     "data": {
      "text/plain": [
       "4.287593572928356"
      ]
     },
     "execution_count": 39,
     "metadata": {},
     "output_type": "execute_result"
    }
   ],
   "source": [
    "pets[pets.Kind=='Dog'].describe().Age['std']"
   ]
  },
  {
   "cell_type": "markdown",
   "metadata": {},
   "source": [
    "# How old is the oldest parrot? *"
   ]
  },
  {
   "cell_type": "code",
   "execution_count": 40,
   "metadata": {},
   "outputs": [
    {
     "data": {
      "text/plain": [
       "11.0"
      ]
     },
     "execution_count": 40,
     "metadata": {},
     "output_type": "execute_result"
    }
   ],
   "source": [
    "pets[pets.Kind=='Parrot'].describe()['Age']['max']"
   ]
  },
  {
   "cell_type": "markdown",
   "metadata": {},
   "source": [
    "# What is the mean age of cats? Keep answer in decimal format and round to the nearest hundredth (e.g. 0.75). *"
   ]
  },
  {
   "cell_type": "code",
   "execution_count": 41,
   "metadata": {},
   "outputs": [
    {
     "data": {
      "text/plain": [
       "7.32258064516129"
      ]
     },
     "execution_count": 41,
     "metadata": {},
     "output_type": "execute_result"
    }
   ],
   "source": [
    "pets[pets.Kind == 'Cat'].describe().Age['mean']"
   ]
  },
  {
   "cell_type": "code",
   "execution_count": 49,
   "metadata": {},
   "outputs": [
    {
     "data": {
      "text/plain": [
       "<matplotlib.axes._subplots.AxesSubplot at 0x7f16e91facc0>"
      ]
     },
     "execution_count": 49,
     "metadata": {},
     "output_type": "execute_result"
    },
    {
     "data": {
      "image/png": "[encoded data removed]",
      "text/plain": [
       "<Figure size 720x576 with 1 Axes>"
      ]
     },
     "metadata": {},
     "output_type": "display_data"
    }
   ],
   "source": [
    "import seaborn as sns\n",
    "plt.figure(figsize=(10,8))\n",
    "sns.boxplot(x='Kind',y='Age',data=pets,palette=['#008000','#800080','#FFA500'])"
   ]
  },
  {
   "cell_type": "code",
   "execution_count": null,
   "metadata": {},
   "outputs": [],
   "source": []
  }
 ],
 "metadata": {
  "kernelspec": {
   "display_name": "Python 3",
   "language": "python",
   "name": "python3"
  },
  "language_info": {
   "codemirror_mode": {
    "name": "ipython",
    "version": 3
   },
   "file_extension": ".py",
   "mimetype": "text/x-python",
   "name": "python",
   "nbconvert_exporter": "python",
   "pygments_lexer": "ipython3",
   "version": "3.6.5"
  }
 },
 "nbformat": 4,
 "nbformat_minor": 2
}
